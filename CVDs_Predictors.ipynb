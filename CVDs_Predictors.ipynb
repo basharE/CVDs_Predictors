{
  "nbformat": 4,
  "nbformat_minor": 0,
  "metadata": {
    "colab": {
      "name": "CVDs_Predictors.ipynb",
      "provenance": [],
      "mount_file_id": "https://github.com/basharE/CVDs_Predictors/blob/main/CVDs_Predictors.ipynb",
      "authorship_tag": "ABX9TyNnr8atqzL/hnHy2FmTOovx",
      "include_colab_link": true
    },
    "kernelspec": {
      "name": "python3",
      "display_name": "Python 3"
    },
    "language_info": {
      "name": "python"
    }
  },
  "cells": [
    {
      "cell_type": "markdown",
      "metadata": {
        "id": "view-in-github",
        "colab_type": "text"
      },
      "source": [
        "<a href=\"https://colab.research.google.com/github/basharE/CVDs_Predictors/blob/main/CVDs_Predictors.ipynb\" target=\"_parent\"><img src=\"https://colab.research.google.com/assets/colab-badge.svg\" alt=\"Open In Colab\"/></a>"
      ]
    },
    {
      "cell_type": "markdown",
      "source": [
        "# Installing packages/Imports"
      ],
      "metadata": {
        "id": "tChl-jkC35dE"
      }
    },
    {
      "cell_type": "code",
      "source": [
        "!pip install -U -q PyDrive\n",
        "# !pip install shap\n",
        "# !pip install boruta\n",
        "# !pip install BorutaShap\n",
        "# !pip install catboost\n",
        "# !pip install verstack\n",
        "\n",
        "from pydrive.auth import GoogleAuth\n",
        "from pydrive.drive import GoogleDrive\n",
        "from google.colab import auth\n",
        "from oauth2client.client import GoogleCredentials\n",
        "from sklearn.preprocessing import MinMaxScaler\n",
        "from sklearn.ensemble import IsolationForest\n",
        "from sklearn.ensemble import RandomForestRegressor\n",
        "from sklearn.model_selection import train_test_split\n",
        "from sklearn.metrics import mean_squared_error as MSE\n",
        "from sklearn.metrics import mean_absolute_error as MAE\n",
        "from sklearn.metrics import r2_score as R2\n",
        "from scipy.special import softmax\n",
        "# from boruta import BorutaPy\n",
        "# from BorutaShap import BorutaShap\n",
        "# from verstack import LGBMTuner\n",
        "from sklearn.model_selection import cross_val_score\n",
        "\n",
        "import pandas as pd\n",
        "import numpy as np\n",
        "import seaborn as sn\n",
        "sn.set_style(style='darkgrid')\n",
        "import matplotlib.pyplot as plt\n",
        "import math"
      ],
      "metadata": {
        "id": "2JzXOQlK390m"
      },
      "execution_count": 38,
      "outputs": []
    },
    {
      "cell_type": "markdown",
      "source": [
        "# Uploading data "
      ],
      "metadata": {
        "id": "6W9clqFB3J5G"
      }
    },
    {
      "cell_type": "markdown",
      "source": [
        "## Connecting to google drive"
      ],
      "metadata": {
        "id": "vWTLnGNY3QW3"
      }
    },
    {
      "cell_type": "code",
      "execution_count": 39,
      "metadata": {
        "id": "ZeTgDC5yQm5g"
      },
      "outputs": [],
      "source": [
        "auth.authenticate_user()\n",
        "gauth = GoogleAuth()\n",
        "gauth.credentials = GoogleCredentials.get_application_default()\n",
        "drive = GoogleDrive(gauth)"
      ]
    },
    {
      "cell_type": "markdown",
      "source": [
        "## Uploading csv files"
      ],
      "metadata": {
        "id": "Q5ZDCghK3bZq"
      }
    },
    {
      "cell_type": "code",
      "source": [
        "df_Cleveland = pd.read_csv(\"/content/drive/MyDrive/CVD_DATA/cleveland.data\", delimiter=\" \")\n",
        "df_Hungarian = pd.read_csv(\"/content/drive/MyDrive/CVD_DATA/hungarian.data\", delimiter=\" \")\n",
        "df_Switzerland = pd.read_csv(\"/content/drive/MyDrive/CVD_DATA/switzerland.data\", delimiter=\" \")\n",
        "df_LongBeachVA = pd.read_csv(\"/content/drive/MyDrive/CVD_DATA/long-beach-va.data\", delimiter=\" \")"
      ],
      "metadata": {
        "id": "1aeFNT-E3fuT"
      },
      "execution_count": 40,
      "outputs": []
    },
    {
      "cell_type": "code",
      "source": [
        "df = pd.concat([df_Cleveland, df_Hungarian, df_Switzerland, df_LongBeachVA])"
      ],
      "metadata": {
        "id": "mXddqa177wI0"
      },
      "execution_count": 41,
      "outputs": []
    },
    {
      "cell_type": "code",
      "source": [
        "df_co = df[['smoke'\n",
        ",'cigs'\n",
        ",'years'\n",
        ",'age'      \n",
        ",'sex'       \n",
        ",'cp'        \n",
        ",'trestbps'\n",
        ",'chol'   \n",
        ",'fbs'       \n",
        ",'restecg'\n",
        ",'thalach'   \n",
        ",'exang'    \n",
        ",'oldpeak'\n",
        ",'slope'    \n",
        ",'ca'      \n",
        ",'thal'\n",
        ",'num']]"
      ],
      "metadata": {
        "id": "vFh-hvAbYtu5"
      },
      "execution_count": 42,
      "outputs": []
    },
    {
      "cell_type": "code",
      "source": [
        "conditions = [\n",
        "    (df_co['smoke'] == -9) & (df_co['cigs'] == -9) & (df_co['years'] == -9),\n",
        "    (df_co['smoke'] == 0) | (df_co['cigs'] == 0) | (df_co['years'] == 0),\n",
        "    (df_co['smoke'] > 0) | (df_co['cigs'] > 0) | (df_co['years'] > 0)\n",
        "]\n",
        "\n",
        "values = [-9, 0, 1]\n",
        "\n",
        "df_co['is_smoker'] = np.select(conditions, values)"
      ],
      "metadata": {
        "colab": {
          "base_uri": "https://localhost:8080/"
        },
        "id": "Jz2tfHg9ZU6x",
        "outputId": "32e77b68-3c6d-4690-ab91-0394ce9adab9"
      },
      "execution_count": 43,
      "outputs": [
        {
          "output_type": "stream",
          "name": "stderr",
          "text": [
            "/usr/local/lib/python3.7/dist-packages/ipykernel_launcher.py:9: SettingWithCopyWarning: \n",
            "A value is trying to be set on a copy of a slice from a DataFrame.\n",
            "Try using .loc[row_indexer,col_indexer] = value instead\n",
            "\n",
            "See the caveats in the documentation: https://pandas.pydata.org/pandas-docs/stable/user_guide/indexing.html#returning-a-view-versus-a-copy\n",
            "  if __name__ == '__main__':\n"
          ]
        }
      ]
    },
    {
      "cell_type": "code",
      "source": [
        "df_smoker = df_co[['is_smoker', 'num']]"
      ],
      "metadata": {
        "id": "ZyeVaTyZao_k"
      },
      "execution_count": 45,
      "outputs": []
    },
    {
      "cell_type": "code",
      "source": [
        "df_smoker = df_smoker[df_smoker['is_smoker'] != -9]"
      ],
      "metadata": {
        "id": "jWRw_2dpbQxq"
      },
      "execution_count": 47,
      "outputs": []
    },
    {
      "cell_type": "code",
      "source": [
        "#########################################################\n",
        "# Cross tabulation between is_smoker and num\n",
        "CrosstabResult=pd.crosstab(index=df_smoker['is_smoker'],columns=df_smoker['num'])\n",
        "print(CrosstabResult)\n",
        " \n",
        "# importing the required function\n",
        "from scipy.stats import chi2_contingency\n",
        " \n",
        "# Performing Chi-sq test\n",
        "ChiSqResult = chi2_contingency(CrosstabResult)\n",
        " \n",
        "# P-Value is the Probability of H0 being True\n",
        "# If P-Value&gt;0.05 then only we Accept the assumption(H0)\n",
        " \n",
        "print('The P-Value of the ChiSq Test is:', ChiSqResult[1])"
      ],
      "metadata": {
        "colab": {
          "base_uri": "https://localhost:8080/"
        },
        "id": "UQcC67KobkG_",
        "outputId": "b9afe10f-1ab6-494a-b262-320770d9d097"
      },
      "execution_count": 49,
      "outputs": [
        {
          "output_type": "stream",
          "name": "stdout",
          "text": [
            "num          0   1   2   3   4\n",
            "is_smoker                     \n",
            "0          106  47  32  37   4\n",
            "1          109  70  46  42  19\n",
            "The P-Value of the ChiSq Test is: 0.0358894065295935\n"
          ]
        }
      ]
    }
  ]
}